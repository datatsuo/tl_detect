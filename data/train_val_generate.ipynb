{
 "cells": [
  {
   "cell_type": "code",
   "execution_count": 1,
   "metadata": {
    "collapsed": true
   },
   "outputs": [],
   "source": [
    "import random \n",
    "import os\n",
    "import shutil"
   ]
  },
  {
   "cell_type": "code",
   "execution_count": 2,
   "metadata": {},
   "outputs": [
    {
     "name": "stdout",
     "output_type": "stream",
     "text": [
      "number of samples:  739\n"
     ]
    }
   ],
   "source": [
    "# usage: put this Jupyter notebook in the same directory as the train+valid dataset \n",
    "# set val_percent and run.  \n",
    "\n",
    "data_dir = 'rosbag_data' # directory for train + val data \n",
    "filename = data_dir+'/filename_list.txt' # file names are in it \n",
    "val_percent = 0.2 # percentage of validation set \n",
    "random.seed(1789) # random seed\n",
    "# read all the file names  and randomize \n",
    "filename_trainval = open(filename,'r').read().split('\\n')\n",
    "filename_trainval.remove('')\n",
    "random.shuffle(filename_trainval) # randomize \n",
    "n_samples = len(filename_trainval) \n",
    "print(\"number of samples: \", n_samples)"
   ]
  },
  {
   "cell_type": "code",
   "execution_count": 3,
   "metadata": {},
   "outputs": [
    {
     "name": "stdout",
     "output_type": "stream",
     "text": [
      "number of samples in training set: 592\n",
      "number of samples in validation set: 147\n"
     ]
    }
   ],
   "source": [
    "# create list of file names for  validation set\n",
    "filename_val = random.sample(filename_trainval, int(val_percent*n_samples))\n",
    "# create list of file names for training set \n",
    "filename_train= [f for f in filename_trainval if f not in filename_val]\n",
    "\n",
    "print(\"number of samples in training set:\", len(filename_train))\n",
    "print(\"number of samples in validation set:\", len(filename_val))"
   ]
  },
  {
   "cell_type": "code",
   "execution_count": 4,
   "metadata": {},
   "outputs": [],
   "source": [
    "# create a folder for training and validation sets, \n",
    "# and put image and annotation files \n",
    "\n",
    "for set_ in ['train', 'val']:\n",
    "    \n",
    "    # createa a directory and subdirectory `images`, `annotations`\n",
    "    set_dir = data_dir+'_'+set_\n",
    "    if not os.path.exists(set_dir):\n",
    "        os.makedirs(set_dir)\n",
    "    annotation_dir = set_dir+'/annotations'\n",
    "    image_dir = set_dir+'/images'\n",
    "    if not os.path.exists(image_dir):\n",
    "        os.makedirs(image_dir)\n",
    "    if not os.path.exists(annotation_dir):\n",
    "        os.makedirs(annotation_dir)\n",
    "        \n",
    "    if set_ == 'train':\n",
    "        filename_set = filename_train\n",
    "    elif set_ == 'val':\n",
    "        filename_set = filename_val\n",
    "        \n",
    "    # create text file listing file names \n",
    "    with open(set_dir+'/filename_list.txt', 'w') as fl:  \n",
    "\n",
    "        for f in filename_set:\n",
    "            fl.write('%s\\n' % f)\n",
    "\n",
    "    fl.close()\n",
    "\n",
    "    # copy image files \n",
    "    for f in filename_set:\n",
    "        image_name = f+'.jpg'\n",
    "        shutil.copyfile(data_dir+'/images/'+image_name, image_dir+'/'+image_name)\n",
    "\n",
    "    # copy annotation files \n",
    "    for f in filename_set:\n",
    "        annotation_name = f+'.xml'\n",
    "        shutil.copyfile(data_dir+'/annotations/'+annotation_name, annotation_dir+'/'+annotation_name)\n",
    "    "
   ]
  },
  {
   "cell_type": "code",
   "execution_count": null,
   "metadata": {
    "collapsed": true
   },
   "outputs": [],
   "source": []
  }
 ],
 "metadata": {
  "kernelspec": {
   "display_name": "Python 3",
   "language": "python",
   "name": "python3"
  },
  "language_info": {
   "codemirror_mode": {
    "name": "ipython",
    "version": 3
   },
   "file_extension": ".py",
   "mimetype": "text/x-python",
   "name": "python",
   "nbconvert_exporter": "python",
   "pygments_lexer": "ipython3",
   "version": "3.6.1"
  }
 },
 "nbformat": 4,
 "nbformat_minor": 2
}
